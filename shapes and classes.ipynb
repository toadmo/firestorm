{
 "metadata": {
  "language_info": {
   "codemirror_mode": {
    "name": "ipython",
    "version": 3
   },
   "file_extension": ".py",
   "mimetype": "text/x-python",
   "name": "python",
   "nbconvert_exporter": "python",
   "pygments_lexer": "ipython3",
   "version": "3.8.6-final"
  },
  "orig_nbformat": 2,
  "kernelspec": {
   "name": "python3",
   "display_name": "Python 3.8.6 64-bit",
   "metadata": {
    "interpreter": {
     "hash": "cd5f46e3198f519a965fc62690decb9b80581385622b2bc0fa17348340787f1f"
    }
   }
  }
 },
 "nbformat": 4,
 "nbformat_minor": 2,
 "cells": [
  {
   "source": [
    "Using classes allows us to easily create multiple instances of objects with similar properties. Here we create a class called shape. "
   ],
   "cell_type": "markdown",
   "metadata": {}
  },
  {
   "cell_type": "code",
   "execution_count": 4,
   "metadata": {},
   "outputs": [],
   "source": [
    "class shape(object):\n",
    "    # the __init__ (pronounced dunder init) method gets called when you create\n",
    "    # an object of the class.\n",
    "    def __init__(self, shape_type):\n",
    "        #print(\"I've just been created!!!!\")\n",
    "        self.type = shape_type\n",
    "\n",
    "    def print_shape(self):\n",
    "        print(f\"This is a {self.type}\")\n",
    "\n",
    "    def point_inside_shape(self, x_pos, y_pos):\n",
    "        x = x\n",
    "\n",
    "    def line_collision(self, a, b, c):\n",
    "        # a line in slope-intercept form is y = mx + b\n",
    "        # a line in general form is ax + by + c = 0\n",
    "        # convert from slope-intercept to general --> 0 = mx - y + b --> a==m, b==-1, c==0\n",
    "        raise NotImplementedError(\"This function needs to be implemented.\")\n"
   ]
  },
  {
   "source": [
    "The class above has one attribute, type, and four methods: \\_\\_init\\_\\_, print_shape, point_insided_shape, and line_collision (there are actually even more predefined methods, but we won't use those).  Here is how we make an instance of the class-"
   ],
   "cell_type": "markdown",
   "metadata": {
    "tags": []
   }
  },
  {
   "cell_type": "code",
   "execution_count": 5,
   "metadata": {},
   "outputs": [],
   "source": [
    "my_shape = shape(\"octagon\") "
   ]
  },
  {
   "source": [
    "Notice that I provided an argument to shape. This was defined in the \\_\\_init\\_\\_ method (pronounced dunder init). This method gets called whenever you create an instance of the class. \\_\\_init\\_\\_ defines two parameters: self and shape_type. self should be the first parameter of every method. It is just a way of referencing the calling class and you should never provide an argument for this parameter. The shape_type parameter allows me to customize every instance of the shape class. The \"octagon\" argument is passed to shape via the shape_type parameter of \\_\\_init\\_\\_.\n",
    "\n",
    "We can then call the other methods like this-"
   ],
   "cell_type": "markdown",
   "metadata": {
    "tags": []
   }
  },
  {
   "source": [
    "my_shape.print_shape()"
   ],
   "cell_type": "code",
   "metadata": {},
   "execution_count": 6,
   "outputs": [
    {
     "output_type": "stream",
     "name": "stdout",
     "text": [
      "This is a octagon\n"
     ]
    }
   ]
  },
  {
   "source": [
    "Classes can also have attributes. Our shape class has one attribute called type. The methods can access these atributes by using the self parameter. For instance, to access the type attribute from one of the methods we would use self.type. You can easily access the attributes from any instance of the class and you can also create new attributes whenever you want."
   ],
   "cell_type": "markdown",
   "metadata": {}
  },
  {
   "cell_type": "code",
   "execution_count": 7,
   "metadata": {},
   "outputs": [
    {
     "output_type": "stream",
     "name": "stdout",
     "text": [
      "octagon\n5\n"
     ]
    }
   ],
   "source": [
    "print(my_shape.type)\n",
    "\n",
    "# you can also create new attributes\n",
    "my_shape.new_attribute = 5\n",
    "print(my_shape.new_attribute)"
   ]
  },
  {
   "source": [
    "A great thing about classes is that you can easily create multiple instances which are all unique."
   ],
   "cell_type": "markdown",
   "metadata": {}
  },
  {
   "cell_type": "code",
   "execution_count": 8,
   "metadata": {},
   "outputs": [
    {
     "output_type": "stream",
     "name": "stdout",
     "text": [
      "octagon\noctagon\noctagon\noctagon\noctagon\n"
     ]
    }
   ],
   "source": [
    "# Or I can create a bunch of instances of my shape class\n",
    "shape_list = []\n",
    "for _ in range(5):\n",
    "    shape_list.append(shape(\"octagon\"))\n",
    "\n",
    "# Now I have a list of shapes\n",
    "for sh in shape_list:\n",
    "    print(sh.type)"
   ]
  },
  {
   "source": [
    "Inheritance is when you create a class (the child class) based on another class (the parent class). Here I create a circle class based on the shape class."
   ],
   "cell_type": "markdown",
   "metadata": {}
  },
  {
   "cell_type": "code",
   "execution_count": 9,
   "metadata": {},
   "outputs": [],
   "source": [
    "class circle(shape):\n",
    "    def __init__(self, x_p, y_p, vel_x, vel_y, rad):\n",
    "        super().__init__(\"circle\")\n",
    "        self.x_pos = x_p\n",
    "        self.y_pos = y_p\n",
    "        self.x_velocity = vel_x\n",
    "        self.y_velocity = vel_y\n",
    "        self.radius = rad\n",
    "\n",
    "   \n",
    "    def print_shape(self):\n",
    "        super(circle, self).print_shape()\n",
    "        print(f\"It is at postion ({self.x_pos},{self.y_pos}) and has a radius of {self.radius}.\")       \n"
   ]
  },
  {
   "source": [
    "The circle class either inherits attributes from the parent or it overwrites them. Above we overwrite both the \\_\\_init\\_\\_ and print_shape methods. Notice that we did not overwrite the point_inside_shape or line_collision methods. We also don't overwrite the type attribute, but we still set it to \"circle\" by calling the \\_\\_init\\_\\_ method of the parent class. We can access the parent class using the super() function.  "
   ],
   "cell_type": "markdown",
   "metadata": {}
  },
  {
   "cell_type": "code",
   "execution_count": 10,
   "metadata": {},
   "outputs": [
    {
     "output_type": "stream",
     "name": "stdout",
     "text": [
      "circle\n1\nThis is a circle\nIt is at postion (1,1) and has a radius of 5.\n"
     ]
    }
   ],
   "source": [
    "my_circle = circle(1,1,2,2,5)\n",
    "print(my_circle.type)\n",
    "print(my_circle.x_pos)\n",
    "my_circle.print_shape()"
   ]
  },
  {
   "source": [
    "We can call methods from the parent class that have not been overwritten. \n",
    "\n",
    "Note: the code below will raise an unhandled error."
   ],
   "cell_type": "markdown",
   "metadata": {}
  },
  {
   "cell_type": "code",
   "execution_count": 11,
   "metadata": {},
   "outputs": [
    {
     "output_type": "error",
     "ename": "NotImplementedError",
     "evalue": "This function needs to be implemented.",
     "traceback": [
      "\u001b[1;31m---------------------------------------------------------------------------\u001b[0m",
      "\u001b[1;31mNotImplementedError\u001b[0m                       Traceback (most recent call last)",
      "\u001b[1;32m<ipython-input-11-0082fb4fa883>\u001b[0m in \u001b[0;36m<module>\u001b[1;34m\u001b[0m\n\u001b[1;32m----> 1\u001b[1;33m \u001b[0mmy_circle\u001b[0m\u001b[1;33m.\u001b[0m\u001b[0mline_collision\u001b[0m\u001b[1;33m(\u001b[0m\u001b[1;36m1\u001b[0m\u001b[1;33m,\u001b[0m\u001b[1;36m1\u001b[0m\u001b[1;33m,\u001b[0m\u001b[1;36m1\u001b[0m\u001b[1;33m)\u001b[0m\u001b[1;33m\u001b[0m\u001b[1;33m\u001b[0m\u001b[0m\n\u001b[0m",
      "\u001b[1;32m<ipython-input-4-72d3626cbbec>\u001b[0m in \u001b[0;36mline_collision\u001b[1;34m(self, a, b, c)\u001b[0m\n\u001b[0;32m     16\u001b[0m         \u001b[1;31m# a line in general form is ax + by + c = 0\u001b[0m\u001b[1;33m\u001b[0m\u001b[1;33m\u001b[0m\u001b[1;33m\u001b[0m\u001b[0m\n\u001b[0;32m     17\u001b[0m         \u001b[1;31m# convert from slope-intercept to general --> 0 = mx - y + b --> a==m, b==-1, c==0\u001b[0m\u001b[1;33m\u001b[0m\u001b[1;33m\u001b[0m\u001b[1;33m\u001b[0m\u001b[0m\n\u001b[1;32m---> 18\u001b[1;33m         \u001b[1;32mraise\u001b[0m \u001b[0mNotImplementedError\u001b[0m\u001b[1;33m(\u001b[0m\u001b[1;34m\"This function needs to be implemented.\"\u001b[0m\u001b[1;33m)\u001b[0m\u001b[1;33m\u001b[0m\u001b[1;33m\u001b[0m\u001b[0m\n\u001b[0m",
      "\u001b[1;31mNotImplementedError\u001b[0m: This function needs to be implemented."
     ]
    }
   ],
   "source": [
    "my_circle.line_collision(1,1,1)"
   ]
  },
  {
   "source": [
    "By design I did not implement the line_collision method because shape doesn't really have a shape that can collide with a line. This was just to let users know that they should create a child class that does implement the function.\n",
    "\n",
    "Here I implement line_collision inside of the circle class."
   ],
   "cell_type": "markdown",
   "metadata": {}
  },
  {
   "cell_type": "code",
   "execution_count": 21,
   "metadata": {},
   "outputs": [
    {
     "output_type": "execute_result",
     "data": {
      "text/plain": [
       "True"
      ]
     },
     "metadata": {},
     "execution_count": 21
    }
   ],
   "source": [
    "import math\n",
    "class circle(shape):\n",
    "    def __init__(self, x_p, y_p, vel_x, vel_y, rad):\n",
    "        super().__init__(\"circle\")\n",
    "        self.x_pos = x_p\n",
    "        self.y_pos = y_p\n",
    "        self.x_velocity = vel_x\n",
    "        self.y_velocity = vel_y\n",
    "        self.radius = rad\n",
    "    def print_shape(self):\n",
    "        super(circle, self).print_shape()\n",
    "        print(f\"It is at postion ({self.x_pos},{self.y_pos}) and has a radius of {self.radius}.\")\n",
    "    def point_inside_shape(self, x_coord, y_coord):\n",
    "        distance = math.sqrt((x_coord - self.x_pos)**2 + (y_coord - self.y_pos)**2)\n",
    "        return distance < self.radius\n",
    "    def line_collision(self, a, b, c):\n",
    "        # from https://tutorialspoint.dev/algorithm/geometric-algorithms/check-line-touches-intersects-circle\n",
    "        # Finding the distance of line from center of circle. \n",
    "        dist = ((abs(a * self.x_pos + b * self.y_pos + c)) / math.sqrt(a * a + b * b)) \n",
    "        # Checking if the distance is less than, greater than or equal to radius. \n",
    "        if (self.radius == dist): \n",
    "            print(\"That line just touches the circle\") \n",
    "        elif (self.radius > dist): \n",
    "            print(\"That line goes through the circle\") \n",
    "        else: \n",
    "            print(\"That line does not touch the circle.\") \n",
    "    def get_location_x(self):\n",
    "        return self.x_pos\n",
    "    def get_location_y(self):\n",
    "        return self.y_pos\n",
    "    def changeLocation(self,x_vel, y_vel):\n",
    "        self.x_pos += x_vel\n",
    "        self.y_pos += y_vel\n",
    "\n",
    "circle_test = circle(1,1,0,0,5)\n",
    "circle_test.point_inside_shape(1,1)\n",
    "# circle_test.point_inside_shape(10,10)"
   ]
  },
  {
   "source": [
    "The line_collision method uses the general equation of a line (a,b,c) instead of the more well known, but less useful, slope-intercept equation (y = mx + b).\n",
    "\n",
    "Given a line in slope-intercept format you can convert it like I do in this example-\n",
    "\n",
    "given line y = -3/4x + (-25/4) --> 0 = -3/4x -y -25/4 --> 0 = 3/4x + y + 25/4 --> 0 = 3x + 4y + 25 --> a==3,b==4,c==2\n",
    "\n",
    "Now lets create a circle and see if it collides with a line."
   ],
   "cell_type": "markdown",
   "metadata": {}
  },
  {
   "cell_type": "code",
   "execution_count": 12,
   "metadata": {},
   "outputs": [
    {
     "output_type": "stream",
     "name": "stdout",
     "text": [
      "That line just touches the circle\n"
     ]
    }
   ],
   "source": [
    "new_circle = circle(0,0,0,0,5)\n",
    "\n",
    "new_circle.line_collision(3,4,25)"
   ]
  },
  {
   "source": [
    "Do the following 👍🏻-\n",
    "\n",
    "1. Create a rectangle class and a triangle class\n",
    "1. In both classes create a method called point_inside_shape that determines if a point is inside the shape\n",
    "1. In both classes create a method called print shape which prints something about the shape.\n",
    "1. Use this code to create a list of circles and a list of shapes(circles, rectangles, and triangles).\n",
    "1. Have the circles move each time step.\n",
    "1. At each time step, determine if the center of any of the circles (which is a point) is inside any of the\n",
    "1. shapes in the shape list.\n",
    "1. Attempt- Look up how to do line/rectangle and line/triangle collisions. If you find something, add the method to your shape"
   ],
   "cell_type": "markdown",
   "metadata": {}
  },
  {
   "cell_type": "code",
   "execution_count": 12,
   "metadata": {},
   "outputs": [
    {
     "output_type": "stream",
     "name": "stdout",
     "text": [
      "My corners are at (1,1), (1,10), (10,10), (10,1)\n"
     ]
    },
    {
     "output_type": "execute_result",
     "data": {
      "text/plain": [
       "False"
      ]
     },
     "metadata": {},
     "execution_count": 12
    }
   ],
   "source": [
    "class rectangle(shape):\n",
    "    def __init__(self, x1, y1, x2, y2):\n",
    "        self.x1 = x1\n",
    "        self.x2 = x2\n",
    "        self.y1 = y1\n",
    "        self.y2 = y2\n",
    "    def point_inside_shape(self, p_x, p_y):\n",
    "        return p_x > self.x1 and p_x < self.x2 and p_y > self.y1 and p_y < self.y2\n",
    "    def print_shape(self):\n",
    "        print(f\"My corners are at ({self.x1},{self.y1}), ({self.x1},{self.y2}), ({self.x2},{self.y2}), ({self.x2},{self.y1})\")\n",
    "\n",
    "new_rectangle = rectangle(1,1,10,10)\n",
    "new_rectangle.print_shape()\n",
    "# new_rectangle.point_inside_shape(9,3)\n",
    "new_rectangle.point_inside_shape(11,3)\n",
    "\n",
    "\n",
    "\n"
   ]
  },
  {
   "cell_type": "code",
   "execution_count": 15,
   "metadata": {},
   "outputs": [
    {
     "output_type": "stream",
     "name": "stdout",
     "text": [
      "My corners are at (1,1), (1,10), (5,10).\n"
     ]
    },
    {
     "output_type": "execute_result",
     "data": {
      "text/plain": [
       "True"
      ]
     },
     "metadata": {},
     "execution_count": 15
    }
   ],
   "source": [
    "def cross(a, b):\n",
    "    return [a[1] * b[2] - b[1] * a[2], a[2] * b[0] - a[0] * b[2], a[0] * b[1] - a[1] * b[0]]\n",
    "\n",
    "class triangle(shape):\n",
    "    def __init__(self, x1, y1, x2, y2, x3, y3):\n",
    "        self.x1 = x1\n",
    "        self.x2 = x2\n",
    "        self.y1 = y1\n",
    "        self.y2 = y2\n",
    "        self.x3 = x3\n",
    "        self.y3 = y3\n",
    "    def point_inside_shape(self, p_x, p_y):\n",
    "        ap = [self.x1 - p_x, self.y1 - p_y, 0]\n",
    "        ab = [self.x1 - self.x2, self.y1 - self.y2, 0]\n",
    "        bp = [self.x2 - p_x, self.y2 - p_y, 0]\n",
    "        bc = [self.x2 - self.x3, self.y2 - self.y3, 0]\n",
    "        cp = [self.x3 - p_x, self.y3 - p_y, 0]\n",
    "        ca = [self.x3 - self.x1, self.y3 - self.y1, 0]\n",
    "        a = cross(ap, ab)\n",
    "        b = cross(bp, bc)\n",
    "        c = cross(cp, ca)\n",
    "        return ((a[2] > 0 and b[2] > 0 and c[2] > 0) or (a[2] < 0 and b[2] < 0 and c[2] < 0))\n",
    "    def print_shape(self):\n",
    "        print(f\"My corners are at ({self.x1},{self.y1}), ({self.x2},{self.y2}), ({self.x3},{self.y3}).\") \n",
    "\n",
    "new_triangle = triangle(1,1,1,10,5,10)\n",
    "new_triangle.print_shape()\n",
    "new_triangle.point_inside_shape(2,5)\n",
    "# new_triangle.point_inside_shape(8,8)\n",
    "\n",
    "\n",
    "\n"
   ]
  },
  {
   "cell_type": "code",
   "execution_count": 22,
   "metadata": {},
   "outputs": [
    {
     "output_type": "stream",
     "name": "stdout",
     "text": [
      "This is a circle\nIt is at postion (1,8) and has a radius of 1.\nThis is a circle\nIt is at postion (4,6) and has a radius of 1.\nThis is a circle\nIt is at postion (6,2) and has a radius of 1.\nThis is a circle\nIt is at postion (1,4) and has a radius of 1.\nThis is a circle\nIt is at postion (9,6) and has a radius of 1.\nThis is a circle\nIt is at postion (8,6) and has a radius of 1.\nThis is a circle\nIt is at postion (8,3) and has a radius of 1.\nThis is a circle\nIt is at postion (5,7) and has a radius of 1.\nThis is a circle\nIt is at postion (4,10) and has a radius of 1.\nThis is a circle\nIt is at postion (1,6) and has a radius of 1.\n"
     ]
    }
   ],
   "source": [
    "import random\n",
    "\n",
    "circle_lists = []\n",
    "\n",
    "for _ in range(10):\n",
    "    circle_lists.append(circle(random.randint(0,10), random.randint(0,10), 0, 0, 1))\n",
    "\n",
    "for circ in circle_lists:\n",
    "    circ.print_shape()\n",
    "\n"
   ]
  },
  {
   "source": [
    "\n",
    "import random\n",
    "import time\n",
    "\n",
    "shapes = [new_triangle, new_rectangle, new_circle]\n",
    "x_pos = 1\n",
    "y_pos = 1\n",
    "x_pos2 = 2\n",
    "y_pos2 = 2\n",
    "vel_x = random.randint(0, 10)\n",
    "vel_y = random.randint(0, 10)\n",
    "vel_x2 = random.randint(0, 10)\n",
    "vel_y2 = random.randint(0, 10)\n",
    "\n",
    "new_circle1 = circle(x_pos,y_pos,vel_x,vel_y,1)\n",
    "new_circle2 = circle(x_pos2,y_pos2,vel_x2,vel_y2,1)\n",
    "circles = [new_circle1, new_circle2]\n",
    "\n",
    "\n",
    "\n",
    "\n",
    "while True:\n",
    "    new_circle1.changeLocation(vel_x, vel_y)\n",
    "    new_circle2.changeLocation(vel_x, vel_y)\n",
    "\n",
    "    if x_pos > 3:\n",
    "        vel_x = -random.randint(0, 10)\n",
    "    if y_pos > 3:\n",
    "        vel_y = -random.randint(0, 10)\n",
    "    if x_pos < 0:\n",
    "        vel_x = random.randint(0, 10)\n",
    "    if y_pos < 0:\n",
    "        vel_y = random.randint(0, 10)\n",
    "\n",
    "    if x_pos2 > 3:\n",
    "        vel_x2 = -random.randint(0, 10)\n",
    "    if y_pos2 > 3:\n",
    "        vel_y2 = -random.randint(0, 10)\n",
    "    if x_pos2 < 0:\n",
    "        vel_x2 = random.randint(0, 10)\n",
    "    if y_pos2 < 0:\n",
    "        vel_y2 = random.randint(0, 10)\n",
    "    \n",
    "    for each_shape in shapes:\n",
    "        for each_circle in circles:\n",
    "            if each_shape.point_inside_shape(each_circle.get_location_x(), each_circle.get_location_y()):\n",
    "                print(str(each_shape) + \"hit by\" + str(each_circle))\n",
    "            else:\n",
    "                print(\"no hits\")\n",
    "    time.sleep(1)\n"
   ],
   "cell_type": "code",
   "metadata": {},
   "execution_count": 16,
   "outputs": [
    {
     "output_type": "stream",
     "name": "stdout",
     "text": [
      "no hits\n",
      "no hits\n",
      "no hits\n",
      "<__main__.rectangle object at 0x00000269D0429670>hit by<__main__.circle object at 0x00000269D04371F0>\n",
      "<__main__.circle object at 0x00000269D040A100>hit by<__main__.circle object at 0x00000269D0437190>\n",
      "<__main__.circle object at 0x00000269D040A100>hit by<__main__.circle object at 0x00000269D04371F0>\n",
      "no hits\n",
      "no hits\n",
      "<__main__.rectangle object at 0x00000269D0429670>hit by<__main__.circle object at 0x00000269D0437250>\n",
      "<__main__.rectangle object at 0x00000269D0429670>hit by<__main__.circle object at 0x00000269D04370A0>\n",
      "no hits\n",
      "no hits\n",
      "no hits\n",
      "no hits\n",
      "no hits\n",
      "no hits\n",
      "no hits\n",
      "no hits\n",
      "no hits\n",
      "no hits\n",
      "no hits\n",
      "no hits\n",
      "<__main__.circle object at 0x00000269D040A100>hit by<__main__.circle object at 0x00000269D04375B0>\n",
      "<__main__.circle object at 0x00000269D040A100>hit by<__main__.circle object at 0x00000269D0437880>\n",
      "no hits\n",
      "no hits\n",
      "no hits\n",
      "no hits\n",
      "no hits\n",
      "<__main__.circle object at 0x00000269D040A100>hit by<__main__.circle object at 0x00000269D04370A0>\n",
      "no hits\n",
      "no hits\n",
      "no hits\n",
      "no hits\n",
      "<__main__.circle object at 0x00000269D040A100>hit by<__main__.circle object at 0x00000269D04377F0>\n",
      "<__main__.circle object at 0x00000269D040A100>hit by<__main__.circle object at 0x00000269D0437760>\n",
      "no hits\n",
      "no hits\n",
      "no hits\n",
      "no hits\n",
      "no hits\n",
      "<__main__.circle object at 0x00000269D040A100>hit by<__main__.circle object at 0x00000269D04376D0>\n",
      "no hits\n",
      "no hits\n",
      "no hits\n",
      "no hits\n",
      "<__main__.circle object at 0x00000269D040A100>hit by<__main__.circle object at 0x00000269D04370A0>\n",
      "<__main__.circle object at 0x00000269D040A100>hit by<__main__.circle object at 0x00000269D0437580>\n",
      "no hits\n",
      "no hits\n",
      "no hits\n",
      "no hits\n",
      "no hits\n",
      "<__main__.circle object at 0x00000269D040A100>hit by<__main__.circle object at 0x00000269D0437490>\n",
      "no hits\n",
      "no hits\n",
      "<__main__.rectangle object at 0x00000269D0429670>hit by<__main__.circle object at 0x00000269D0437250>\n",
      "no hits\n",
      "<__main__.circle object at 0x00000269D040A100>hit by<__main__.circle object at 0x00000269D0437250>\n",
      "<__main__.circle object at 0x00000269D040A100>hit by<__main__.circle object at 0x00000269D0437790>\n",
      "no hits\n",
      "no hits\n",
      "no hits\n",
      "no hits\n",
      "no hits\n",
      "<__main__.circle object at 0x00000269D040A100>hit by<__main__.circle object at 0x00000269D04376D0>\n",
      "no hits\n",
      "no hits\n",
      "no hits\n",
      "no hits\n",
      "no hits\n",
      "<__main__.circle object at 0x00000269D040A100>hit by<__main__.circle object at 0x00000269D04377C0>\n",
      "no hits\n",
      "no hits\n",
      "no hits\n",
      "no hits\n",
      "<__main__.circle object at 0x00000269D040A100>hit by<__main__.circle object at 0x00000269D04370A0>\n",
      "<__main__.circle object at 0x00000269D040A100>hit by<__main__.circle object at 0x00000269D04374C0>\n"
     ]
    }
   ]
  },
  {
   "cell_type": "code",
   "execution_count": null,
   "metadata": {},
   "outputs": [],
   "source": []
  }
 ]
}